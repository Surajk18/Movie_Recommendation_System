{
 "cells": [
  {
   "cell_type": "markdown",
   "metadata": {},
   "source": [
    "# Movie recommendation system"
   ]
  },
  {
   "cell_type": "code",
   "execution_count": 1,
   "metadata": {},
   "outputs": [],
   "source": [
    "import pandas as pd\n",
    "import numpy as np"
   ]
  },
  {
   "cell_type": "code",
   "execution_count": 2,
   "metadata": {},
   "outputs": [],
   "source": [
    "from sklearn.feature_extraction.text import CountVectorizer"
   ]
  },
  {
   "cell_type": "code",
   "execution_count": 10,
   "metadata": {},
   "outputs": [],
   "source": [
    "movies=pd.read_csv('C:/Users/HP/Desktop/my project/movies.csv')\n",
    "tags=pd.read_csv('C:/Users/HP/Desktop/my project/tags.csv')\n",
    "ratings=pd.read_csv('C:/Users/HP/Desktop/my project/ratings.csv')\n",
    "links=pd.read_csv('C:/Users/HP/Desktop/my project/links.csv')\n",
    "move=pd.read_csv('C:/Users/HP/Desktop/my project/movies.csv')"
   ]
  },
  {
   "cell_type": "code",
   "execution_count": 11,
   "metadata": {},
   "outputs": [
    {
     "data": {
      "text/plain": [
       "500"
      ]
     },
     "execution_count": 11,
     "metadata": {},
     "output_type": "execute_result"
    }
   ],
   "source": [
    "name= move['title'].tolist()\n",
    "name=name[:500]\n",
    "len(name)"
   ]
  },
  {
   "cell_type": "code",
   "execution_count": 12,
   "metadata": {},
   "outputs": [
    {
     "data": {
      "text/plain": [
       "500"
      ]
     },
     "execution_count": 12,
     "metadata": {},
     "output_type": "execute_result"
    }
   ],
   "source": [
    "name= move['title'].tolist()\n",
    "name=name[:500]\n",
    "len(name)"
   ]
  },
  {
   "cell_type": "code",
   "execution_count": 14,
   "metadata": {},
   "outputs": [],
   "source": [
    "weights=np.log(ratings.groupby('movieId').rating.count())"
   ]
  },
  {
   "cell_type": "code",
   "execution_count": 15,
   "metadata": {},
   "outputs": [],
   "source": [
    "\n",
    "move['genres']=move.genres.str.split('|')\n",
    "vect= CountVectorizer()\n",
    "vect.fit_transform(movies.genres)\n",
    "vect.get_feature_names()\n",
    "vect_matrix=vect.transform(movies.genres)\n"
   ]
  },
  {
   "cell_type": "code",
   "execution_count": 16,
   "metadata": {},
   "outputs": [],
   "source": [
    "from sklearn.metrics.pairwise import cosine_similarity\n",
    "tag_sim=cosine_similarity(vect_matrix[0:9742], vect_matrix)\n",
    "g_sim=[]\n",
    "move.set_index(move.movieId,inplace=True)\n",
    "move['weights']=np.log(ratings.groupby('movieId').rating.count())\n",
    "move['index']=range(9742)\n",
    "move.set_index('index',inplace=True)"
   ]
  },
  {
   "cell_type": "code",
   "execution_count": 17,
   "metadata": {},
   "outputs": [],
   "source": [
    "for i in range(500):\n",
    "    temp=[]\n",
    "    for j in range(500):\n",
    "        dist=1-tag_sim[i][j]\n",
    "        if(dist==0):\n",
    "            temp.append(1)\n",
    "        else:\n",
    "            if(i==j):\n",
    "                  temp.append(1)\n",
    "            else:\n",
    "                 x=(move.weights[i]*move.weights[j])/(dist**2)\n",
    "                 temp.append(x)\n",
    "    g_sim.append(temp)\n",
    "   #print(len(g_sim))"
   ]
  },
  {
   "cell_type": "code",
   "execution_count": 18,
   "metadata": {},
   "outputs": [],
   "source": [
    "similar_movie={}\n",
    "for i in range(len(name)):\n",
    "    similar_movie[name[i]]=[]\n",
    "    for j in range(len(g_sim[i])):\n",
    "        if g_sim[i][j]>125:\n",
    "            similar_movie[name[i]].append(name[j])\n",
    "#print(similar_movie)"
   ]
  },
  {
   "cell_type": "code",
   "execution_count": 12,
   "metadata": {},
   "outputs": [
    {
     "data": {
      "text/plain": [
       "['American President, The (1995)',\n",
       " 'Sense and Sensibility (1995)',\n",
       " 'Leaving Las Vegas (1995)',\n",
       " 'Persuasion (1995)',\n",
       " 'How to Make an American Quilt (1995)',\n",
       " 'Mighty Aphrodite (1995)',\n",
       " 'Postman, The (Postino, Il) (1994)',\n",
       " \"Things to Do in Denver When You're Dead (1995)\",\n",
       " 'Angels and Insects (1995)',\n",
       " 'Beautiful Girls (1996)',\n",
       " 'Bridges of Madison County, The (1995)',\n",
       " 'Up Close and Personal (1996)',\n",
       " 'First Knight (1995)',\n",
       " 'Mad Love (1995)',\n",
       " 'Scarlet Letter, The (1995)',\n",
       " 'Something to Talk About (1995)',\n",
       " 'Walk in the Clouds, A (1995)',\n",
       " 'Before Sunrise (1995)',\n",
       " 'Circle of Friends (1995)',\n",
       " 'Don Juan DeMarco (1995)',\n",
       " 'Eat Drink Man Woman (Yin shi nan nu) (1994)',\n",
       " 'Immortal Beloved (1994)',\n",
       " 'Like Water for Chocolate (Como agua para chocolate) (1992)',\n",
       " 'Love Affair (1994)',\n",
       " \"Nobody's Fool (1994)\",\n",
       " 'Queen Margot (Reine Margot, La) (1994)',\n",
       " 'Corrina, Corrina (1994)',\n",
       " 'Forrest Gump (1994)',\n",
       " 'It Could Happen to You (1994)',\n",
       " 'Reality Bites (1994)',\n",
       " 'When a Man Loves a Woman (1994)',\n",
       " 'Blue Sky (1994)',\n",
       " 'Farewell My Concubine (Ba wang bie ji) (1993)',\n",
       " 'Go Fish (1994)',\n",
       " 'House of the Spirits, The (1993)',\n",
       " 'Piano, The (1993)',\n",
       " 'Remains of the Day, The (1993)',\n",
       " 'Shadowlands (1993)',\n",
       " 'Sleepless in Seattle (1993)',\n",
       " 'Son in Law (1993)']"
      ]
     },
     "execution_count": 12,
     "metadata": {},
     "output_type": "execute_result"
    }
   ],
   "source": [
    "similar_movie[name[23]]"
   ]
  },
  {
   "cell_type": "code",
   "execution_count": 13,
   "metadata": {},
   "outputs": [],
   "source": []
  },
  {
   "cell_type": "code",
   "execution_count": 19,
   "metadata": {},
   "outputs": [
    {
     "ename": "NameError",
     "evalue": "name 'sklearn' is not defined",
     "output_type": "error",
     "traceback": [
      "\u001b[1;31m---------------------------------------------------------------------------\u001b[0m",
      "\u001b[1;31mNameError\u001b[0m                                 Traceback (most recent call last)",
      "\u001b[1;32m<ipython-input-19-7a64f5eac979>\u001b[0m in \u001b[0;36m<module>\u001b[1;34m\u001b[0m\n\u001b[1;32m----> 1\u001b[1;33m \u001b[0msklearn\u001b[0m\u001b[1;33m.\u001b[0m\u001b[0m_version_\u001b[0m\u001b[1;33m\u001b[0m\u001b[1;33m\u001b[0m\u001b[0m\n\u001b[0m",
      "\u001b[1;31mNameError\u001b[0m: name 'sklearn' is not defined"
     ]
    }
   ],
   "source": []
  },
  {
   "cell_type": "code",
   "execution_count": null,
   "metadata": {},
   "outputs": [],
   "source": []
  }
 ],
 "metadata": {
  "kernelspec": {
   "display_name": "Python 3",
   "language": "python",
   "name": "python3"
  },
  "language_info": {
   "codemirror_mode": {
    "name": "ipython",
    "version": 3
   },
   "file_extension": ".py",
   "mimetype": "text/x-python",
   "name": "python",
   "nbconvert_exporter": "python",
   "pygments_lexer": "ipython3",
   "version": "3.8.3"
  }
 },
 "nbformat": 4,
 "nbformat_minor": 4
}
